{
 "cells": [
  {
   "cell_type": "code",
   "execution_count": 1,
   "id": "ddac877a-18ad-4700-ba66-c461d0011a1d",
   "metadata": {},
   "outputs": [],
   "source": [
    "# Declaring variable age and assign 25 to it\n",
    "age=25\n",
    "Age=25\n",
    "aGE=25\n",
    "#here are some wars to declare age variable"
   ]
  },
  {
   "cell_type": "code",
   "execution_count": null,
   "id": "920c2c02-1e69-47b5-b288-2d139368538b",
   "metadata": {},
   "outputs": [],
   "source": []
  }
 ],
 "metadata": {
  "kernelspec": {
   "display_name": "Python 3 (ipykernel)",
   "language": "python",
   "name": "python3"
  },
  "language_info": {
   "codemirror_mode": {
    "name": "ipython",
    "version": 3
   },
   "file_extension": ".py",
   "mimetype": "text/x-python",
   "name": "python",
   "nbconvert_exporter": "python",
   "pygments_lexer": "ipython3",
   "version": "3.10.8"
  }
 },
 "nbformat": 4,
 "nbformat_minor": 5
}
