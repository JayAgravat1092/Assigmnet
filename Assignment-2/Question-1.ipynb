{
 "cells": [
  {
   "cell_type": "code",
   "execution_count": 1,
   "id": "bed11a92-1cd1-460d-b011-f21be2d42986",
   "metadata": {},
   "outputs": [],
   "source": [
    "#comments in python"
   ]
  },
  {
   "cell_type": "code",
   "execution_count": null,
   "id": "19bc3c85-3074-414c-b967-8c7089623f49",
   "metadata": {},
   "outputs": [],
   "source": [
    "#we can do single line comment"
   ]
  },
  {
   "cell_type": "code",
   "execution_count": null,
   "id": "5d3ed30d-41b4-4d7c-8d89-d9ed855039ff",
   "metadata": {},
   "outputs": [],
   "source": [
    "# #we can do multiline comment by \n",
    "# selecting all line and pressing ctrl + /"
   ]
  }
 ],
 "metadata": {
  "kernelspec": {
   "display_name": "Python 3 (ipykernel)",
   "language": "python",
   "name": "python3"
  },
  "language_info": {
   "codemirror_mode": {
    "name": "ipython",
    "version": 3
   },
   "file_extension": ".py",
   "mimetype": "text/x-python",
   "name": "python",
   "nbconvert_exporter": "python",
   "pygments_lexer": "ipython3",
   "version": "3.10.8"
  }
 },
 "nbformat": 4,
 "nbformat_minor": 5
}
