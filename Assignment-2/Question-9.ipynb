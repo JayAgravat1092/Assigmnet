{
 "cells": [
  {
   "cell_type": "code",
   "execution_count": 2,
   "id": "91ae0414-f2b2-4941-8279-b6bd06631e36",
   "metadata": {},
   "outputs": [
    {
     "name": "stdout",
     "output_type": "stream",
     "text": [
      "Jay Agrvat\n"
     ]
    }
   ],
   "source": [
    "# Creating variable name and assigning full name to it\n",
    "name=\"Jay Agravat\"\n",
    "#printing the variable\n",
    "print(name)"
   ]
  },
  {
   "cell_type": "code",
   "execution_count": null,
   "id": "9438f000-78df-418a-ab2c-2ccb7a9ce2b5",
   "metadata": {},
   "outputs": [],
   "source": []
  }
 ],
 "metadata": {
  "kernelspec": {
   "display_name": "Python 3 (ipykernel)",
   "language": "python",
   "name": "python3"
  },
  "language_info": {
   "codemirror_mode": {
    "name": "ipython",
    "version": 3
   },
   "file_extension": ".py",
   "mimetype": "text/x-python",
   "name": "python",
   "nbconvert_exporter": "python",
   "pygments_lexer": "ipython3",
   "version": "3.10.8"
  }
 },
 "nbformat": 4,
 "nbformat_minor": 5
}
