{
 "cells": [
  {
   "cell_type": "code",
   "execution_count": null,
   "id": "03d4cbe0-d761-4603-b59c-60eb2628261d",
   "metadata": {},
   "outputs": [],
   "source": [
    "#varible are used to store value."
   ]
  },
  {
   "cell_type": "code",
   "execution_count": 3,
   "id": "4d543a3d-b692-4682-92f5-ee5379ae766d",
   "metadata": {},
   "outputs": [],
   "source": [
    "# to decalare a variable we give a mane which should not start with number or special symbol except _\n",
    "num = 10\n",
    "#aAssign value using ="
   ]
  }
 ],
 "metadata": {
  "kernelspec": {
   "display_name": "Python 3 (ipykernel)",
   "language": "python",
   "name": "python3"
  },
  "language_info": {
   "codemirror_mode": {
    "name": "ipython",
    "version": 3
   },
   "file_extension": ".py",
   "mimetype": "text/x-python",
   "name": "python",
   "nbconvert_exporter": "python",
   "pygments_lexer": "ipython3",
   "version": "3.10.8"
  }
 },
 "nbformat": 4,
 "nbformat_minor": 5
}
