{
 "cells": [
  {
   "cell_type": "code",
   "execution_count": 4,
   "id": "30988bde-5a97-4345-91f8-041be8f5b5e2",
   "metadata": {},
   "outputs": [
    {
     "name": "stdout",
     "output_type": "stream",
     "text": [
      "a is divisible 4 times\n"
     ]
    }
   ],
   "source": [
    "a=15\n",
    "b=1\n",
    "i=0\n",
    "while b<=a:\n",
    "    if a%b == 0:\n",
    "        i+=1\n",
    "    b+=1\n",
    "print(\"a is divisible\",i,\"times\")"
   ]
  },
  {
   "cell_type": "code",
   "execution_count": null,
   "id": "1c1f3e3f-cff2-4aa6-8294-3e3cb615208e",
   "metadata": {},
   "outputs": [],
   "source": []
  }
 ],
 "metadata": {
  "kernelspec": {
   "display_name": "Python 3 (ipykernel)",
   "language": "python",
   "name": "python3"
  },
  "language_info": {
   "codemirror_mode": {
    "name": "ipython",
    "version": 3
   },
   "file_extension": ".py",
   "mimetype": "text/x-python",
   "name": "python",
   "nbconvert_exporter": "python",
   "pygments_lexer": "ipython3",
   "version": "3.10.8"
  }
 },
 "nbformat": 4,
 "nbformat_minor": 5
}
