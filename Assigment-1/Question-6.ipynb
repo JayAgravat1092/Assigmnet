{
 "cells": [
  {
   "cell_type": "code",
   "execution_count": 6,
   "id": "06c7c140-cd97-406c-8b2a-c6c7afe2c030",
   "metadata": {},
   "outputs": [
    {
     "data": {
      "text/plain": [
       "25"
      ]
     },
     "execution_count": 6,
     "metadata": {},
     "output_type": "execute_result"
    }
   ],
   "source": [
    "lst=[1,2,312,23,7675,4864,5,3,4325,546,5643,236,4325,46,564,564,6765,8,556,23,6,54,7354,65,44]\n",
    "len(lst)\n"
   ]
  },
  {
   "cell_type": "code",
   "execution_count": 7,
   "id": "49b40e13-5d55-400b-8486-c03e903a698e",
   "metadata": {},
   "outputs": [
    {
     "name": "stdout",
     "output_type": "stream",
     "text": [
      "1 is not divisible by 3\n",
      "2 is not divisible by 3\n",
      "312 is divisible by 3\n",
      "23 is not divisible by 3\n",
      "7675 is not divisible by 3\n",
      "4864 is not divisible by 3\n",
      "5 is not divisible by 3\n",
      "3 is divisible by 3\n",
      "4325 is not divisible by 3\n",
      "546 is divisible by 3\n",
      "5643 is divisible by 3\n",
      "236 is not divisible by 3\n",
      "4325 is not divisible by 3\n",
      "46 is not divisible by 3\n",
      "564 is divisible by 3\n",
      "564 is divisible by 3\n",
      "6765 is divisible by 3\n",
      "8 is not divisible by 3\n",
      "556 is not divisible by 3\n",
      "23 is not divisible by 3\n",
      "6 is divisible by 3\n",
      "54 is divisible by 3\n",
      "7354 is not divisible by 3\n",
      "65 is not divisible by 3\n",
      "44 is not divisible by 3\n"
     ]
    }
   ],
   "source": [
    "for i in lst:\n",
    "    if i%3==0:\n",
    "        print(i,\"is divisible by 3\")\n",
    "    else:\n",
    "        print(i,\"is not divisible by 3\")"
   ]
  },
  {
   "cell_type": "code",
   "execution_count": null,
   "id": "b83597a2-7937-4f7f-901d-00c12e12e2df",
   "metadata": {},
   "outputs": [],
   "source": []
  }
 ],
 "metadata": {
  "kernelspec": {
   "display_name": "Python 3 (ipykernel)",
   "language": "python",
   "name": "python3"
  },
  "language_info": {
   "codemirror_mode": {
    "name": "ipython",
    "version": 3
   },
   "file_extension": ".py",
   "mimetype": "text/x-python",
   "name": "python",
   "nbconvert_exporter": "python",
   "pygments_lexer": "ipython3",
   "version": "3.10.8"
  }
 },
 "nbformat": 4,
 "nbformat_minor": 5
}
