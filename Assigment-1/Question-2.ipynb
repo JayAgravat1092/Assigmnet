{
 "cells": [
  {
   "cell_type": "code",
   "execution_count": 1,
   "id": "ec9daf9d-84cf-427b-b963-58b46d378478",
   "metadata": {},
   "outputs": [
    {
     "name": "stdout",
     "output_type": "stream",
     "text": [
      "<class 'str'>\n"
     ]
    }
   ],
   "source": [
    "var1=''\n",
    "print(type(var1))\n",
    "#It's a string"
   ]
  },
  {
   "cell_type": "code",
   "execution_count": 3,
   "id": "6978b27e-586c-4143-b305-cbb1ae3d9881",
   "metadata": {},
   "outputs": [
    {
     "name": "stdout",
     "output_type": "stream",
     "text": [
      "<class 'str'>\n"
     ]
    }
   ],
   "source": [
    "var2='[DS,ML,Python]'\n",
    "print(type(var2))\n",
    "#It's a string"
   ]
  },
  {
   "cell_type": "code",
   "execution_count": 4,
   "id": "ea591821-a0bf-492c-adf8-10d861396c0a",
   "metadata": {},
   "outputs": [
    {
     "name": "stdout",
     "output_type": "stream",
     "text": [
      "<class 'list'>\n"
     ]
    }
   ],
   "source": [
    "var3=['DS','ML','Python']\n",
    "print(type(var3))\n",
    "#It's a list"
   ]
  },
  {
   "cell_type": "code",
   "execution_count": 5,
   "id": "219dcc63-381f-489b-8332-db5d0bb9ac05",
   "metadata": {},
   "outputs": [
    {
     "name": "stdout",
     "output_type": "stream",
     "text": [
      "<class 'int'>\n"
     ]
    }
   ],
   "source": [
    "var4=1\n",
    "print(type(var4))\n",
    "#Its a int"
   ]
  },
  {
   "cell_type": "code",
   "execution_count": null,
   "id": "49416ef0-7503-42e0-9ee6-620aed2cc734",
   "metadata": {},
   "outputs": [],
   "source": []
  }
 ],
 "metadata": {
  "kernelspec": {
   "display_name": "Python 3 (ipykernel)",
   "language": "python",
   "name": "python3"
  },
  "language_info": {
   "codemirror_mode": {
    "name": "ipython",
    "version": 3
   },
   "file_extension": ".py",
   "mimetype": "text/x-python",
   "name": "python",
   "nbconvert_exporter": "python",
   "pygments_lexer": "ipython3",
   "version": "3.10.8"
  }
 },
 "nbformat": 4,
 "nbformat_minor": 5
}
