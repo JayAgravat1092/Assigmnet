{
 "cells": [
  {
   "cell_type": "code",
   "execution_count": 2,
   "id": "9a4529a9-9964-4b93-b99d-cb6736429890",
   "metadata": {},
   "outputs": [
    {
     "name": "stdout",
     "output_type": "stream",
     "text": [
      "10\n",
      "1\n",
      "<class 'int'>\n",
      "2\n",
      "<class 'int'>\n",
      "3.2\n",
      "<class 'float'>\n",
      "213\n",
      "<class 'str'>\n",
      "ew\n",
      "<class 'str'>\n",
      "3\n",
      "<class 'int'>\n",
      "True\n",
      "<class 'bool'>\n",
      "3\n",
      "<class 'int'>\n",
      "dfs\n",
      "<class 'str'>\n",
      "10\n",
      "<class 'int'>\n"
     ]
    }
   ],
   "source": [
    "lst=[1,2,3.2,\"213\",'ew',3,True,3,\"dfs\",10]\n",
    "print(len(lst))\n",
    "for i in lst:\n",
    "    print(i)\n",
    "    print(type(i))"
   ]
  },
  {
   "cell_type": "code",
   "execution_count": null,
   "id": "0ac3d0ce-a65b-46ea-be79-ab44fae45624",
   "metadata": {},
   "outputs": [],
   "source": []
  }
 ],
 "metadata": {
  "kernelspec": {
   "display_name": "Python 3 (ipykernel)",
   "language": "python",
   "name": "python3"
  },
  "language_info": {
   "codemirror_mode": {
    "name": "ipython",
    "version": 3
   },
   "file_extension": ".py",
   "mimetype": "text/x-python",
   "name": "python",
   "nbconvert_exporter": "python",
   "pygments_lexer": "ipython3",
   "version": "3.10.8"
  }
 },
 "nbformat": 4,
 "nbformat_minor": 5
}
